{
 "cells": [
  {
   "cell_type": "markdown",
   "metadata": {},
   "source": [
    "# Historial de URL consultadas "
   ]
  },
  {
   "cell_type": "markdown",
   "metadata": {},
   "source": [
    "## Acutlizar en base al Web Scraping realizado  🙂"
   ]
  },
  {
   "cell_type": "markdown",
   "metadata": {},
   "source": [
    "1. https://scholar.google.com/citations?hl=es&view_op=search_authors&mauthors=%22%40edu.ec%22&btnG=\n",
    "2. https://scholar.google.com/citations?view_op=search_authors&hl=es&mauthors=%22%40edu.ec%22&after_author=7eoMAE_X__8J&astart=50\n",
    "3. https://scholar.google.com/citations?view_op=search_authors&hl=es&mauthors=%22%40edu.ec%22&after_author=VIc-AT7s__8J&astart=100\n",
    "4.\n",
    "5.\n",
    "6.\n",
    "7.\n",
    "8.\n",
    "9.\n",
    "10.\n",
    "11.\n",
    "12.\n",
    "13.\n",
    "\n"
   ]
  }
 ],
 "metadata": {
  "kernelspec": {
   "display_name": "Python 3",
   "language": "python",
   "name": "python3"
  },
  "language_info": {
   "codemirror_mode": {
    "name": "ipython",
    "version": 3
   },
   "file_extension": ".py",
   "mimetype": "text/x-python",
   "name": "python",
   "nbconvert_exporter": "python",
   "pygments_lexer": "ipython3",
   "version": "3.11.1"
  }
 },
 "nbformat": 4,
 "nbformat_minor": 2
}
